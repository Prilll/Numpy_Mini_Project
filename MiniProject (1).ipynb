{
  "nbformat": 4,
  "nbformat_minor": 0,
  "metadata": {
    "colab": {
      "name": "MiniProject.ipynb",
      "provenance": []
    },
    "kernelspec": {
      "name": "python3",
      "display_name": "Python 3"
    },
    "language_info": {
      "name": "python"
    }
  },
  "cells": [
    {
      "cell_type": "code",
      "execution_count": null,
      "metadata": {
        "id": "HL6SUQXUwD6a"
      },
      "outputs": [],
      "source": [
        "# Mini Project:\n",
        "# Let us build a project to learn more about NumPy:\n",
        "\n",
        "# Features of the data set:\n",
        "\n",
        "# Age: Age of the person\n",
        "\n",
        "# education-num: No. of years of education they had\n",
        "\n",
        "# race: Person's race 0 - Amer-Indian-Eskimo\n",
        "# 1 - Asian-Pac-Islander\n",
        "# 2 - Black\n",
        "# 3 - Other\n",
        "# 4 - White\n",
        "\n",
        "# sex: Person's gender 0 - Female\n",
        "# 1 - Male\n",
        "\n",
        "# capital-gain: Income from investment sources, apart from wages/salary\n",
        "\n",
        "# capital loss: Losses from investment sources, apart from wages/salary\n",
        "\n",
        "# hours-per-week: No. of hours per week the person works\n",
        "\n",
        "# income: Annual Income of the person\n",
        "# 0 : Less than or equal to 50K\n",
        "# 1 : More than 50K\n",
        "\n",
        "import numpy as np\n",
        "\n",
        "data_file = \"/content/makeSenseOfCensus.csv\""
      ]
    },
    {
      "cell_type": "code",
      "source": [
        "# Step 1 : Read the Data!\n",
        "\n",
        "# data_file ='makeSenseOfCensus.csv'\n",
        "# Loading the data\n",
        "# data = np.genfromtxt(data_file, delimiter=\",\", skip_header=1)\n",
        "\n",
        "# # printing the data\n",
        "\n",
        "# print(\"\\nData: \\n\\n\", data)\n",
        "# Printing the type of data\n",
        "# print(\"\\nType of data: \\n\\n\", type(data))"
      ],
      "metadata": {
        "id": "fy2KDwrGVT8S"
      },
      "execution_count": null,
      "outputs": []
    },
    {
      "cell_type": "code",
      "source": [
        "data = np.genfromtxt(data_file, delimiter=\",\", skip_header=1, dtype= int) # skip = 1header will ignore the first row\n",
        "\n",
        "# printing the data\n",
        "\n",
        "print(\"\\nData: \\n\\n\", data)"
      ],
      "metadata": {
        "colab": {
          "base_uri": "https://localhost:8080/"
        },
        "id": "vjshB8JZwfqt",
        "outputId": "7b6460dd-0ec6-4185-be2b-5a83c45ddccb"
      },
      "execution_count": null,
      "outputs": [
        {
          "output_type": "stream",
          "name": "stdout",
          "text": [
            "\n",
            "Data: \n",
            "\n",
            " [[39 13  4 ...  0 40  0]\n",
            " [50 13  4 ...  0 13  0]\n",
            " [38  9  4 ...  0 40  0]\n",
            " ...\n",
            " [48 13  4 ...  0 58  1]\n",
            " [40 10  4 ...  0 40  0]\n",
            " [39 13  4 ...  0 50  1]]\n"
          ]
        }
      ]
    },
    {
      "cell_type": "code",
      "source": [
        "# Step 2 : Append the Data\n",
        "# Append 'new_record' (given) to 'data' using \"np.concatenate()\"¶\n",
        "# new_record=[[50, 9, 4, 1, 0, 0, 40, 0]]"
      ],
      "metadata": {
        "id": "D2x20f66VzbK"
      },
      "execution_count": null,
      "outputs": []
    },
    {
      "cell_type": "code",
      "source": [
        "new_record=[[50, 9, 4, 1, 0, 0, 40, 0]]"
      ],
      "metadata": {
        "id": "mAsnnlQFwxVe"
      },
      "execution_count": null,
      "outputs": []
    },
    {
      "cell_type": "code",
      "source": [
        "dataAlt = np.concatenate((data,new_record))\n"
      ],
      "metadata": {
        "id": "qlX8s7-DzfxU"
      },
      "execution_count": null,
      "outputs": []
    },
    {
      "cell_type": "code",
      "source": [
        "print(dataAlt.shape)\n",
        "print(data.shape)"
      ],
      "metadata": {
        "colab": {
          "base_uri": "https://localhost:8080/"
        },
        "id": "LUUGGzgo8zzm",
        "outputId": "0addb034-617b-4027-dfb3-fb53c99cfd7d"
      },
      "execution_count": null,
      "outputs": [
        {
          "output_type": "stream",
          "name": "stdout",
          "text": [
            "(1001, 8)\n",
            "(1000, 8)\n"
          ]
        }
      ]
    },
    {
      "cell_type": "code",
      "source": [
        "# Step 3 : Check if it's a young country or old country\n",
        "# Create a new array called 'age' by taking only age \n",
        "# column(age is the column with index 0) of 'census' array.\n",
        "\n",
        "# Find the max age and store it in a variable called 'max_age'.\n",
        "\n",
        "# Find the min age and store it in a variable called 'min_age'.\n",
        "\n",
        "# Find the mean of the age and store it in a variable called 'age_mean'.\n",
        "\n",
        "# Find the standard deviation of the age and store it in a variable called 'age_std'"
      ],
      "metadata": {
        "id": "JG9PtR7L3FDh"
      },
      "execution_count": null,
      "outputs": []
    },
    {
      "cell_type": "markdown",
      "source": [
        "# HOW TO EXTRACT COLUMNS FROM NUMPY\n",
        "\n"
      ],
      "metadata": {
        "id": "SE8QGSj4APYF"
      }
    },
    {
      "cell_type": "code",
      "source": [
        "\n",
        "\n",
        "\n",
        "\n",
        "\n",
        "an_array = np.array([[1, 2, 3], [4, 5, 6]])\n",
        "first_and_third_column = an_array[:, [0]]\n",
        "print(first_and_third_column)"
      ],
      "metadata": {
        "colab": {
          "base_uri": "https://localhost:8080/"
        },
        "id": "boVGKG_r-pDl",
        "outputId": "b5aa1c2f-73ed-407d-a220-e05f25070009"
      },
      "execution_count": null,
      "outputs": [
        {
          "output_type": "stream",
          "name": "stdout",
          "text": [
            "[[1]\n",
            " [4]]\n"
          ]
        }
      ]
    },
    {
      "cell_type": "code",
      "source": [
        "Age = dataAlt[:,[0]]"
      ],
      "metadata": {
        "id": "lYPMLAwO_bQL"
      },
      "execution_count": null,
      "outputs": []
    },
    {
      "cell_type": "code",
      "source": [
        "print(Age)"
      ],
      "metadata": {
        "colab": {
          "base_uri": "https://localhost:8080/"
        },
        "id": "YrPNJ5p1_zto",
        "outputId": "27ccf9a6-b64f-42d2-efc0-84290ea8e77b"
      },
      "execution_count": null,
      "outputs": [
        {
          "output_type": "stream",
          "name": "stdout",
          "text": [
            "[[39]\n",
            " [50]\n",
            " [38]\n",
            " ...\n",
            " [40]\n",
            " [39]\n",
            " [50]]\n"
          ]
        }
      ]
    },
    {
      "cell_type": "code",
      "source": [
        "Age = dataAlt[:,0]\n",
        "print(Age)"
      ],
      "metadata": {
        "colab": {
          "base_uri": "https://localhost:8080/"
        },
        "id": "5UiNajo1JfT3",
        "outputId": "26569422-74e0-4384-acc6-60cdd70342e7"
      },
      "execution_count": null,
      "outputs": [
        {
          "output_type": "stream",
          "name": "stdout",
          "text": [
            "[39 50 38 ... 40 39 50]\n"
          ]
        }
      ]
    },
    {
      "cell_type": "code",
      "source": [
        "# TO EXTRACT COLUMNS LINK\n",
        "\n",
        "# https://www.kite.com/python/answers/how-to-extract-specific-columns-from-a-numpy-array-in-python"
      ],
      "metadata": {
        "id": "PJV34Bd6_2ut"
      },
      "execution_count": null,
      "outputs": []
    },
    {
      "cell_type": "code",
      "source": [
        "MaxAge = np.max(Age)\n",
        "print(MaxAge)"
      ],
      "metadata": {
        "colab": {
          "base_uri": "https://localhost:8080/"
        },
        "id": "GqLwawK_BZkp",
        "outputId": "9ab4690a-6bc2-456b-fd06-51b75ea77fac"
      },
      "execution_count": null,
      "outputs": [
        {
          "output_type": "stream",
          "name": "stdout",
          "text": [
            "90\n"
          ]
        }
      ]
    },
    {
      "cell_type": "code",
      "source": [
        "MinAge = np.min(Age)\n",
        "print(MinAge)"
      ],
      "metadata": {
        "colab": {
          "base_uri": "https://localhost:8080/"
        },
        "id": "JDkMncglBh52",
        "outputId": "841eff61-e2a3-4bac-dbbe-e374f786d873"
      },
      "execution_count": null,
      "outputs": [
        {
          "output_type": "stream",
          "name": "stdout",
          "text": [
            "17\n"
          ]
        }
      ]
    },
    {
      "cell_type": "code",
      "source": [
        "AgeMean = np.average(Age)\n",
        "print(round(AgeMean, 2))  # decimal trick"
      ],
      "metadata": {
        "colab": {
          "base_uri": "https://localhost:8080/"
        },
        "id": "jovWCYVlBqhW",
        "outputId": "61d02d07-74f0-480d-fb9c-3956b3362a28"
      },
      "execution_count": null,
      "outputs": [
        {
          "output_type": "stream",
          "name": "stdout",
          "text": [
            "38.06\n"
          ]
        }
      ]
    },
    {
      "cell_type": "code",
      "source": [
        "stdAge = np.std(Age)\n",
        "print(stdAge)"
      ],
      "metadata": {
        "colab": {
          "base_uri": "https://localhost:8080/"
        },
        "id": "qQReZHe_B2vy",
        "outputId": "10b92b2f-9068-41cc-9147-44f47333f000"
      },
      "execution_count": null,
      "outputs": [
        {
          "output_type": "stream",
          "name": "stdout",
          "text": [
            "13.341478176165857\n"
          ]
        }
      ]
    },
    {
      "cell_type": "code",
      "source": [
        "# Step 4: Let's check the country's race distribution to identify the minorities\n",
        "# Create four different arrays by subsetting 'census' array by \n",
        "# Race column(Race is the column with index 2) and save them in \n",
        "# 'race_0','race_1', 'race_2', 'race_3' and 'race_4' respectively\n",
        "# (Meaning: Store the array where 'race'column has value 0 in 'race_0', so on and so forth)\n",
        "\n",
        "# Store the length of the above created arrays in \n",
        "# 'len_0', 'len_1','len_2', 'len_3' and 'len_4' respectively\n",
        "\n",
        "# Find out which is the race with the minimum no. of citizens\n",
        "\n",
        "# Store the number associated with the minority race in a variable \n",
        "# called 'minority_race'(For eg: if \"len(race_5)\" is the minimum, \n",
        "# store 5 in 'minority_race' because that is the index of the race \n",
        "# having the least no. of citizens )"
      ],
      "metadata": {
        "id": "pl4LuBdYWHhT"
      },
      "execution_count": null,
      "outputs": []
    },
    {
      "cell_type": "code",
      "source": [
        "# QUESTION NUMBER 4\n",
        "\n",
        "Race = dataAlt[:, [2]] # select column 2 from all the data(rows)\n",
        "print(Race)"
      ],
      "metadata": {
        "colab": {
          "base_uri": "https://localhost:8080/"
        },
        "id": "vB3EDDXVCGUu",
        "outputId": "3a6e35f0-214d-44cb-d710-c65c1121a84f"
      },
      "execution_count": null,
      "outputs": [
        {
          "output_type": "stream",
          "name": "stdout",
          "text": [
            "[[4]\n",
            " [4]\n",
            " [4]\n",
            " ...\n",
            " [4]\n",
            " [4]\n",
            " [4]]\n"
          ]
        }
      ]
    },
    {
      "cell_type": "code",
      "source": [
        "Race0 = np.where(Race == 0 )\n",
        "print(Race0)"
      ],
      "metadata": {
        "colab": {
          "base_uri": "https://localhost:8080/"
        },
        "id": "9E8tSpvMGFDN",
        "outputId": "8e30c6fd-d750-492e-9af7-d5ec0ea23344"
      },
      "execution_count": null,
      "outputs": [
        {
          "output_type": "stream",
          "name": "stdout",
          "text": [
            "(array([ 15, 212, 226, 447, 516, 565, 596, 607, 903, 940]), array([0, 0, 0, 0, 0, 0, 0, 0, 0, 0]))\n"
          ]
        }
      ]
    },
    {
      "cell_type": "code",
      "source": [
        "Race1 = np.where(Race == 1)\n",
        "print(Race1)"
      ],
      "metadata": {
        "colab": {
          "base_uri": "https://localhost:8080/"
        },
        "id": "Raf1E_W0HF_L",
        "outputId": "2d1a72dc-1548-4291-daff-18a40720851d"
      },
      "execution_count": null,
      "outputs": [
        {
          "output_type": "stream",
          "name": "stdout",
          "text": [
            "(array([ 11,  14,  27,  93, 139, 152, 162, 163, 213, 255, 265, 297, 301,\n",
            "       304, 311, 434, 455, 591, 652, 655, 668, 731, 873, 892, 916, 917,\n",
            "       968]), array([0, 0, 0, 0, 0, 0, 0, 0, 0, 0, 0, 0, 0, 0, 0, 0, 0, 0, 0, 0, 0, 0,\n",
            "       0, 0, 0, 0, 0]))\n"
          ]
        }
      ]
    },
    {
      "cell_type": "code",
      "source": [
        "Race2 = np.where(Race == 2 )\n",
        "print(Race2)"
      ],
      "metadata": {
        "colab": {
          "base_uri": "https://localhost:8080/"
        },
        "id": "uDb9BZ-6HfX1",
        "outputId": "2f945fda-fa8d-4eaa-b6ee-6c7cf3e9c789"
      },
      "execution_count": null,
      "outputs": [
        {
          "output_type": "stream",
          "name": "stdout",
          "text": [
            "(array([  3,   4,   6,  10,  13,  21,  22,  31,  34,  45,  71,  92,  99,\n",
            "       117, 122, 124, 134, 145, 157, 159, 176, 177, 180, 182, 185, 190,\n",
            "       192, 206, 210, 215, 222, 223, 230, 231, 251, 252, 275, 282, 294,\n",
            "       312, 313, 326, 330, 338, 339, 344, 373, 374, 410, 411, 418, 436,\n",
            "       446, 450, 453, 457, 461, 484, 485, 505, 508, 511, 522, 532, 536,\n",
            "       539, 553, 554, 563, 605, 608, 616, 621, 622, 625, 630, 631, 633,\n",
            "       660, 667, 683, 691, 706, 707, 711, 715, 734, 736, 738, 747, 748,\n",
            "       759, 785, 795, 797, 801, 811, 874, 876, 888, 890, 907, 914, 923,\n",
            "       941, 945, 952, 978, 982, 986]), array([0, 0, 0, 0, 0, 0, 0, 0, 0, 0, 0, 0, 0, 0, 0, 0, 0, 0, 0, 0, 0, 0,\n",
            "       0, 0, 0, 0, 0, 0, 0, 0, 0, 0, 0, 0, 0, 0, 0, 0, 0, 0, 0, 0, 0, 0,\n",
            "       0, 0, 0, 0, 0, 0, 0, 0, 0, 0, 0, 0, 0, 0, 0, 0, 0, 0, 0, 0, 0, 0,\n",
            "       0, 0, 0, 0, 0, 0, 0, 0, 0, 0, 0, 0, 0, 0, 0, 0, 0, 0, 0, 0, 0, 0,\n",
            "       0, 0, 0, 0, 0, 0, 0, 0, 0, 0, 0, 0, 0, 0, 0, 0, 0, 0, 0, 0, 0, 0]))\n"
          ]
        }
      ]
    },
    {
      "cell_type": "code",
      "source": [
        "Race3 = np.where(Race == 3 )\n",
        "print(Race3)"
      ],
      "metadata": {
        "colab": {
          "base_uri": "https://localhost:8080/"
        },
        "id": "USqSGFVoH33X",
        "outputId": "9d72dd35-ef56-4ea7-b665-0b1089a8ff10"
      },
      "execution_count": null,
      "outputs": [
        {
          "output_type": "stream",
          "name": "stdout",
          "text": [
            "(array([ 50, 233, 356, 404, 530, 784]), array([0, 0, 0, 0, 0, 0]))\n"
          ]
        }
      ]
    },
    {
      "cell_type": "code",
      "source": [
        "Race4 = np.where(Race == 4 )\n",
        "print(Race4)"
      ],
      "metadata": {
        "colab": {
          "base_uri": "https://localhost:8080/"
        },
        "id": "7_Hp8tSvH4oC",
        "outputId": "3cd22028-b8bc-4722-ff1c-ebc77ca1f624"
      },
      "execution_count": null,
      "outputs": [
        {
          "output_type": "stream",
          "name": "stdout",
          "text": [
            "(array([   0,    1,    2,    5,    7,    8,    9,   12,   16,   17,   18,\n",
            "         19,   20,   23,   24,   25,   26,   28,   29,   30,   32,   33,\n",
            "         35,   36,   37,   38,   39,   40,   41,   42,   43,   44,   46,\n",
            "         47,   48,   49,   51,   52,   53,   54,   55,   56,   57,   58,\n",
            "         59,   60,   61,   62,   63,   64,   65,   66,   67,   68,   69,\n",
            "         70,   72,   73,   74,   75,   76,   77,   78,   79,   80,   81,\n",
            "         82,   83,   84,   85,   86,   87,   88,   89,   90,   91,   94,\n",
            "         95,   96,   97,   98,  100,  101,  102,  103,  104,  105,  106,\n",
            "        107,  108,  109,  110,  111,  112,  113,  114,  115,  116,  118,\n",
            "        119,  120,  121,  123,  125,  126,  127,  128,  129,  130,  131,\n",
            "        132,  133,  135,  136,  137,  138,  140,  141,  142,  143,  144,\n",
            "        146,  147,  148,  149,  150,  151,  153,  154,  155,  156,  158,\n",
            "        160,  161,  164,  165,  166,  167,  168,  169,  170,  171,  172,\n",
            "        173,  174,  175,  178,  179,  181,  183,  184,  186,  187,  188,\n",
            "        189,  191,  193,  194,  195,  196,  197,  198,  199,  200,  201,\n",
            "        202,  203,  204,  205,  207,  208,  209,  211,  214,  216,  217,\n",
            "        218,  219,  220,  221,  224,  225,  227,  228,  229,  232,  234,\n",
            "        235,  236,  237,  238,  239,  240,  241,  242,  243,  244,  245,\n",
            "        246,  247,  248,  249,  250,  253,  254,  256,  257,  258,  259,\n",
            "        260,  261,  262,  263,  264,  266,  267,  268,  269,  270,  271,\n",
            "        272,  273,  274,  276,  277,  278,  279,  280,  281,  283,  284,\n",
            "        285,  286,  287,  288,  289,  290,  291,  292,  293,  295,  296,\n",
            "        298,  299,  300,  302,  303,  305,  306,  307,  308,  309,  310,\n",
            "        314,  315,  316,  317,  318,  319,  320,  321,  322,  323,  324,\n",
            "        325,  327,  328,  329,  331,  332,  333,  334,  335,  336,  337,\n",
            "        340,  341,  342,  343,  345,  346,  347,  348,  349,  350,  351,\n",
            "        352,  353,  354,  355,  357,  358,  359,  360,  361,  362,  363,\n",
            "        364,  365,  366,  367,  368,  369,  370,  371,  372,  375,  376,\n",
            "        377,  378,  379,  380,  381,  382,  383,  384,  385,  386,  387,\n",
            "        388,  389,  390,  391,  392,  393,  394,  395,  396,  397,  398,\n",
            "        399,  400,  401,  402,  403,  405,  406,  407,  408,  409,  412,\n",
            "        413,  414,  415,  416,  417,  419,  420,  421,  422,  423,  424,\n",
            "        425,  426,  427,  428,  429,  430,  431,  432,  433,  435,  437,\n",
            "        438,  439,  440,  441,  442,  443,  444,  445,  448,  449,  451,\n",
            "        452,  454,  456,  458,  459,  460,  462,  463,  464,  465,  466,\n",
            "        467,  468,  469,  470,  471,  472,  473,  474,  475,  476,  477,\n",
            "        478,  479,  480,  481,  482,  483,  486,  487,  488,  489,  490,\n",
            "        491,  492,  493,  494,  495,  496,  497,  498,  499,  500,  501,\n",
            "        502,  503,  504,  506,  507,  509,  510,  512,  513,  514,  515,\n",
            "        517,  518,  519,  520,  521,  523,  524,  525,  526,  527,  528,\n",
            "        529,  531,  533,  534,  535,  537,  538,  540,  541,  542,  543,\n",
            "        544,  545,  546,  547,  548,  549,  550,  551,  552,  555,  556,\n",
            "        557,  558,  559,  560,  561,  562,  564,  566,  567,  568,  569,\n",
            "        570,  571,  572,  573,  574,  575,  576,  577,  578,  579,  580,\n",
            "        581,  582,  583,  584,  585,  586,  587,  588,  589,  590,  592,\n",
            "        593,  594,  595,  597,  598,  599,  600,  601,  602,  603,  604,\n",
            "        606,  609,  610,  611,  612,  613,  614,  615,  617,  618,  619,\n",
            "        620,  623,  624,  626,  627,  628,  629,  632,  634,  635,  636,\n",
            "        637,  638,  639,  640,  641,  642,  643,  644,  645,  646,  647,\n",
            "        648,  649,  650,  651,  653,  654,  656,  657,  658,  659,  661,\n",
            "        662,  663,  664,  665,  666,  669,  670,  671,  672,  673,  674,\n",
            "        675,  676,  677,  678,  679,  680,  681,  682,  684,  685,  686,\n",
            "        687,  688,  689,  690,  692,  693,  694,  695,  696,  697,  698,\n",
            "        699,  700,  701,  702,  703,  704,  705,  708,  709,  710,  712,\n",
            "        713,  714,  716,  717,  718,  719,  720,  721,  722,  723,  724,\n",
            "        725,  726,  727,  728,  729,  730,  732,  733,  735,  737,  739,\n",
            "        740,  741,  742,  743,  744,  745,  746,  749,  750,  751,  752,\n",
            "        753,  754,  755,  756,  757,  758,  760,  761,  762,  763,  764,\n",
            "        765,  766,  767,  768,  769,  770,  771,  772,  773,  774,  775,\n",
            "        776,  777,  778,  779,  780,  781,  782,  783,  786,  787,  788,\n",
            "        789,  790,  791,  792,  793,  794,  796,  798,  799,  800,  802,\n",
            "        803,  804,  805,  806,  807,  808,  809,  810,  812,  813,  814,\n",
            "        815,  816,  817,  818,  819,  820,  821,  822,  823,  824,  825,\n",
            "        826,  827,  828,  829,  830,  831,  832,  833,  834,  835,  836,\n",
            "        837,  838,  839,  840,  841,  842,  843,  844,  845,  846,  847,\n",
            "        848,  849,  850,  851,  852,  853,  854,  855,  856,  857,  858,\n",
            "        859,  860,  861,  862,  863,  864,  865,  866,  867,  868,  869,\n",
            "        870,  871,  872,  875,  877,  878,  879,  880,  881,  882,  883,\n",
            "        884,  885,  886,  887,  889,  891,  893,  894,  895,  896,  897,\n",
            "        898,  899,  900,  901,  902,  904,  905,  906,  908,  909,  910,\n",
            "        911,  912,  913,  915,  918,  919,  920,  921,  922,  924,  925,\n",
            "        926,  927,  928,  929,  930,  931,  932,  933,  934,  935,  936,\n",
            "        937,  938,  939,  942,  943,  944,  946,  947,  948,  949,  950,\n",
            "        951,  953,  954,  955,  956,  957,  958,  959,  960,  961,  962,\n",
            "        963,  964,  965,  966,  967,  969,  970,  971,  972,  973,  974,\n",
            "        975,  976,  977,  979,  980,  981,  983,  984,  985,  987,  988,\n",
            "        989,  990,  991,  992,  993,  994,  995,  996,  997,  998,  999,\n",
            "       1000]), array([0, 0, 0, 0, 0, 0, 0, 0, 0, 0, 0, 0, 0, 0, 0, 0, 0, 0, 0, 0, 0, 0,\n",
            "       0, 0, 0, 0, 0, 0, 0, 0, 0, 0, 0, 0, 0, 0, 0, 0, 0, 0, 0, 0, 0, 0,\n",
            "       0, 0, 0, 0, 0, 0, 0, 0, 0, 0, 0, 0, 0, 0, 0, 0, 0, 0, 0, 0, 0, 0,\n",
            "       0, 0, 0, 0, 0, 0, 0, 0, 0, 0, 0, 0, 0, 0, 0, 0, 0, 0, 0, 0, 0, 0,\n",
            "       0, 0, 0, 0, 0, 0, 0, 0, 0, 0, 0, 0, 0, 0, 0, 0, 0, 0, 0, 0, 0, 0,\n",
            "       0, 0, 0, 0, 0, 0, 0, 0, 0, 0, 0, 0, 0, 0, 0, 0, 0, 0, 0, 0, 0, 0,\n",
            "       0, 0, 0, 0, 0, 0, 0, 0, 0, 0, 0, 0, 0, 0, 0, 0, 0, 0, 0, 0, 0, 0,\n",
            "       0, 0, 0, 0, 0, 0, 0, 0, 0, 0, 0, 0, 0, 0, 0, 0, 0, 0, 0, 0, 0, 0,\n",
            "       0, 0, 0, 0, 0, 0, 0, 0, 0, 0, 0, 0, 0, 0, 0, 0, 0, 0, 0, 0, 0, 0,\n",
            "       0, 0, 0, 0, 0, 0, 0, 0, 0, 0, 0, 0, 0, 0, 0, 0, 0, 0, 0, 0, 0, 0,\n",
            "       0, 0, 0, 0, 0, 0, 0, 0, 0, 0, 0, 0, 0, 0, 0, 0, 0, 0, 0, 0, 0, 0,\n",
            "       0, 0, 0, 0, 0, 0, 0, 0, 0, 0, 0, 0, 0, 0, 0, 0, 0, 0, 0, 0, 0, 0,\n",
            "       0, 0, 0, 0, 0, 0, 0, 0, 0, 0, 0, 0, 0, 0, 0, 0, 0, 0, 0, 0, 0, 0,\n",
            "       0, 0, 0, 0, 0, 0, 0, 0, 0, 0, 0, 0, 0, 0, 0, 0, 0, 0, 0, 0, 0, 0,\n",
            "       0, 0, 0, 0, 0, 0, 0, 0, 0, 0, 0, 0, 0, 0, 0, 0, 0, 0, 0, 0, 0, 0,\n",
            "       0, 0, 0, 0, 0, 0, 0, 0, 0, 0, 0, 0, 0, 0, 0, 0, 0, 0, 0, 0, 0, 0,\n",
            "       0, 0, 0, 0, 0, 0, 0, 0, 0, 0, 0, 0, 0, 0, 0, 0, 0, 0, 0, 0, 0, 0,\n",
            "       0, 0, 0, 0, 0, 0, 0, 0, 0, 0, 0, 0, 0, 0, 0, 0, 0, 0, 0, 0, 0, 0,\n",
            "       0, 0, 0, 0, 0, 0, 0, 0, 0, 0, 0, 0, 0, 0, 0, 0, 0, 0, 0, 0, 0, 0,\n",
            "       0, 0, 0, 0, 0, 0, 0, 0, 0, 0, 0, 0, 0, 0, 0, 0, 0, 0, 0, 0, 0, 0,\n",
            "       0, 0, 0, 0, 0, 0, 0, 0, 0, 0, 0, 0, 0, 0, 0, 0, 0, 0, 0, 0, 0, 0,\n",
            "       0, 0, 0, 0, 0, 0, 0, 0, 0, 0, 0, 0, 0, 0, 0, 0, 0, 0, 0, 0, 0, 0,\n",
            "       0, 0, 0, 0, 0, 0, 0, 0, 0, 0, 0, 0, 0, 0, 0, 0, 0, 0, 0, 0, 0, 0,\n",
            "       0, 0, 0, 0, 0, 0, 0, 0, 0, 0, 0, 0, 0, 0, 0, 0, 0, 0, 0, 0, 0, 0,\n",
            "       0, 0, 0, 0, 0, 0, 0, 0, 0, 0, 0, 0, 0, 0, 0, 0, 0, 0, 0, 0, 0, 0,\n",
            "       0, 0, 0, 0, 0, 0, 0, 0, 0, 0, 0, 0, 0, 0, 0, 0, 0, 0, 0, 0, 0, 0,\n",
            "       0, 0, 0, 0, 0, 0, 0, 0, 0, 0, 0, 0, 0, 0, 0, 0, 0, 0, 0, 0, 0, 0,\n",
            "       0, 0, 0, 0, 0, 0, 0, 0, 0, 0, 0, 0, 0, 0, 0, 0, 0, 0, 0, 0, 0, 0,\n",
            "       0, 0, 0, 0, 0, 0, 0, 0, 0, 0, 0, 0, 0, 0, 0, 0, 0, 0, 0, 0, 0, 0,\n",
            "       0, 0, 0, 0, 0, 0, 0, 0, 0, 0, 0, 0, 0, 0, 0, 0, 0, 0, 0, 0, 0, 0,\n",
            "       0, 0, 0, 0, 0, 0, 0, 0, 0, 0, 0, 0, 0, 0, 0, 0, 0, 0, 0, 0, 0, 0,\n",
            "       0, 0, 0, 0, 0, 0, 0, 0, 0, 0, 0, 0, 0, 0, 0, 0, 0, 0, 0, 0, 0, 0,\n",
            "       0, 0, 0, 0, 0, 0, 0, 0, 0, 0, 0, 0, 0, 0, 0, 0, 0, 0, 0, 0, 0, 0,\n",
            "       0, 0, 0, 0, 0, 0, 0, 0, 0, 0, 0, 0, 0, 0, 0, 0, 0, 0, 0, 0, 0, 0,\n",
            "       0, 0, 0, 0, 0, 0, 0, 0, 0, 0, 0, 0, 0, 0, 0, 0, 0, 0, 0, 0, 0, 0,\n",
            "       0, 0, 0, 0, 0, 0, 0, 0, 0, 0, 0, 0, 0, 0, 0, 0, 0, 0, 0, 0, 0, 0,\n",
            "       0, 0, 0, 0, 0, 0, 0, 0, 0, 0, 0, 0, 0, 0, 0, 0, 0, 0, 0, 0, 0, 0,\n",
            "       0, 0, 0, 0, 0, 0, 0, 0, 0, 0, 0, 0, 0, 0, 0, 0, 0, 0, 0, 0, 0, 0,\n",
            "       0, 0, 0, 0, 0, 0, 0, 0, 0, 0, 0, 0]))\n"
          ]
        }
      ]
    },
    {
      "cell_type": "code",
      "source": [
        "Race00 = dataAlt[dataAlt[:,2] == 0 ]\n",
        "print(Race00)\n",
        "len_0 = len(Race00)\n",
        "print(len_0)\n",
        "\n",
        "len_0 = len(dataAlt[dataAlt[:,2] == 0 ])\n",
        "print(len_0)\n",
        "print(\"----------\")\n",
        "\n",
        "\n",
        "\n",
        "# test = dataAlt[dataAlt[:,2:5] == 0 ] # this gives you an error \n",
        "test = dataAlt[2] #prints all the elements in row 2\n",
        "test = dataAlt[:,2] #prints all the rows and column 2\n",
        "test = dataAlt[:,2] == 0  # it tells you wether 0 is found in column 2. thru all rows. true or false\n",
        "test = dataAlt[dataAlt[:,2] == 0 ] # it outputs all the columns where 0 is found in column 2\n",
        "# test = np.where(dataAlt[:,2] == 0 ) # this prints index of where 0 happens in column 2\n",
        "\n",
        "print(test)\n",
        "\n",
        "print(\"ttt\")\n",
        "print(dataAlt)"
      ],
      "metadata": {
        "colab": {
          "base_uri": "https://localhost:8080/"
        },
        "id": "E69wApg9H5v7",
        "outputId": "9972d213-518a-4e0f-ba56-62aadeee8120"
      },
      "execution_count": null,
      "outputs": [
        {
          "output_type": "stream",
          "name": "stdout",
          "text": [
            "[[34  4  0  1  0  0 45  0]\n",
            " [35 10  0  0  0  0 40  0]\n",
            " [60  6  0  0  0  0 10  0]\n",
            " [51  9  0  1  0  0 40  0]\n",
            " [25 10  0  0  0  0 20  0]\n",
            " [20  9  0  1  0  0 48  0]\n",
            " [23 10  0  0  0  0 25  0]\n",
            " [29  9  0  1  0  0 40  0]\n",
            " [27 12  0  1  0  0 40  0]\n",
            " [31 12  0  0  0  0 40  0]]\n",
            "10\n",
            "10\n",
            "----------\n",
            "[[34  4  0  1  0  0 45  0]\n",
            " [35 10  0  0  0  0 40  0]\n",
            " [60  6  0  0  0  0 10  0]\n",
            " [51  9  0  1  0  0 40  0]\n",
            " [25 10  0  0  0  0 20  0]\n",
            " [20  9  0  1  0  0 48  0]\n",
            " [23 10  0  0  0  0 25  0]\n",
            " [29  9  0  1  0  0 40  0]\n",
            " [27 12  0  1  0  0 40  0]\n",
            " [31 12  0  0  0  0 40  0]]\n",
            "ttt\n",
            "[[39 13  4 ...  0 40  0]\n",
            " [50 13  4 ...  0 13  0]\n",
            " [38  9  4 ...  0 40  0]\n",
            " ...\n",
            " [40 10  4 ...  0 40  0]\n",
            " [39 13  4 ...  0 50  1]\n",
            " [50  9  4 ...  0 40  0]]\n"
          ]
        }
      ]
    },
    {
      "cell_type": "code",
      "source": [
        "Race11 = dataAlt[dataAlt[:,2] == 1 ]\n",
        "print(Race11)\n",
        "len_1 = len(Race11)\n",
        "print(len_1)\n",
        "\n",
        "len_1 = len(dataAlt[dataAlt[:,2] == 1 ])\n",
        "print(len_1)"
      ],
      "metadata": {
        "colab": {
          "base_uri": "https://localhost:8080/"
        },
        "id": "QGqZdp93ND_B",
        "outputId": "dae1757b-7c15-4ef0-e47c-2398175c43b4"
      },
      "execution_count": null,
      "outputs": [
        {
          "output_type": "stream",
          "name": "stdout",
          "text": [
            "[[  30   13    1    1    0    0   40    1]\n",
            " [  40   11    1    1    0    0   40    1]\n",
            " [  54   10    1    1    0    0   60    1]\n",
            " [  30    9    1    0    0 1573   35    0]\n",
            " [  49   10    1    1    0    0   40    1]\n",
            " [  33   13    1    0    0    0   40    0]\n",
            " [  44   14    1    0    0    0   40    0]\n",
            " [  28    9    1    0    0    0   40    0]\n",
            " [  60    9    1    1    0    0   40    0]\n",
            " [  42    9    1    1    0    0   40    1]\n",
            " [  37   10    1    1    0    0   75    1]\n",
            " [  39   14    1    0 3464    0   40    0]\n",
            " [  21   10    1    0    0    0   25    0]\n",
            " [  24   10    1    0    0    0   40    0]\n",
            " [  34   14    1    1 7298    0   35    1]\n",
            " [  27   10    1    1    0 1980   40    0]\n",
            " [  40   11    1    1    0    0   40    1]\n",
            " [  55    9    1    0    0    0   40    0]\n",
            " [  35   16    1    1    0    0   40    1]\n",
            " [  29   10    1    0    0    0   40    0]\n",
            " [  20    7    1    0    0 1762   40    0]\n",
            " [  55   10    1    0    0    0   40    0]\n",
            " [  51   13    1    1    0 2415   40    1]\n",
            " [  28   11    1    0    0    0   40    0]\n",
            " [  43   14    1    0    0    0   50    0]\n",
            " [  67    9    1    1    0    0   40    1]\n",
            " [  48   13    1    1    0    0   40    1]]\n",
            "27\n",
            "27\n"
          ]
        }
      ]
    },
    {
      "cell_type": "code",
      "source": [
        "Race22 = dataAlt[dataAlt[:,2] == 2 ]\n",
        "print(Race22)\n",
        "len_2 = len(Race22)\n",
        "print(len_2)\n",
        "\n",
        "len_2 = len(dataAlt[dataAlt[:,2] == 2 ])\n",
        "print(len_2)"
      ],
      "metadata": {
        "colab": {
          "base_uri": "https://localhost:8080/"
        },
        "id": "hVL78gfwMyre",
        "outputId": "53f8bd38-9fbc-4d3e-f275-e72bf59b9cdd"
      },
      "execution_count": null,
      "outputs": [
        {
          "output_type": "stream",
          "name": "stdout",
          "text": [
            "[[  53    7    2    1    0    0   40    0]\n",
            " [  28   13    2    0    0    0   40    0]\n",
            " [  49    5    2    0    0    0   16    0]\n",
            " [  37   10    2    1    0    0   80    1]\n",
            " [  32   12    2    1    0    0   50    0]\n",
            " [  54    9    2    0    0    0   20    0]\n",
            " [  35    5    2    1    0    0   40    0]\n",
            " [  20   10    2    1    0    0   44    0]\n",
            " [  22   10    2    1    0    0   15    0]\n",
            " [  57   13    2    1    0    0   40    1]\n",
            " [  31   13    2    0    0    0   40    0]\n",
            " [  28   10    2    0    0    0   25    0]\n",
            " [  32    9    2    1    0    0   40    0]\n",
            " [  49   11    2    1    0    0   40    1]\n",
            " [  30   13    2    1    0    0   40    0]\n",
            " [  19   10    2    1    0    0   35    0]\n",
            " [  46   12    2    0    0    0   36    0]\n",
            " [  31    9    2    0    0    0   30    0]\n",
            " [  71   10    2    1    0 1816    2    0]\n",
            " [  42   13    2    1    0    0   50    0]\n",
            " [  21    9    2    1    0    0   40    0]\n",
            " [  34    9    2    1    0    0   40    0]\n",
            " [  44   10    2    1    0    0   38    1]\n",
            " [  30   10    2    1    0    0   45    0]\n",
            " [  34    9    2    1    0    0   40    0]\n",
            " [  38   10    2    0    0    0   28    0]\n",
            " [  41   13    2    1    0    0   40    0]\n",
            " [  36   13    2    1 7298    0   36    1]\n",
            " [  44    9    2    1    0    0   40    0]\n",
            " [  37   13    2    1    0    0   60    1]\n",
            " [  90    9    2    1    0 2206   40    0]\n",
            " [  54    9    2    1    0    0   20    0]\n",
            " [  35    7    2    1 3674    0   40    0]\n",
            " [  41    9    2    0    0    0   38    0]\n",
            " [  42   13    2    0    0    0   40    0]\n",
            " [  59    6    2    0    0    0   30    0]\n",
            " [  43    9    2    1    0    0   40    0]\n",
            " [  34   12    2    0    0    0   45    0]\n",
            " [  27   13    2    0    0    0   40    0]\n",
            " [  19   10    2    0    0    0   25    0]\n",
            " [  36   13    2    0    0    0   40    1]\n",
            " [  23   11    2    0    0    0   15    0]\n",
            " [  41   10    2    1    0    0   45    0]\n",
            " [  19    9    2    1    0    0   30    0]\n",
            " [  45    9    2    1    0    0   40    0]\n",
            " [  22   10    2    0    0    0   40    0]\n",
            " [  45    9    2    1    0    0   40    0]\n",
            " [  44    9    2    1    0    0   40    0]\n",
            " [  41   10    2    0    0    0   24    0]\n",
            " [  24    9    2    0    0    0   40    0]\n",
            " [  34    7    2    1    0    0   40    0]\n",
            " [  34    9    2    1  594    0   60    0]\n",
            " [  44    9    2    0    0    0   40    0]\n",
            " [  19    9    2    0    0    0   40    0]\n",
            " [  42   12    2    1    0    0   40    1]\n",
            " [  38   10    2    1    0    0   50    0]\n",
            " [  54    9    2    1    0    0   40    0]\n",
            " [  52    8    2    1  594    0   40    0]\n",
            " [  25   10    2    0    0    0   20    0]\n",
            " [  24   13    2    1    0    0   40    0]\n",
            " [  47    9    2    0    0    0   40    0]\n",
            " [  53    3    2    0    0    0   30    0]\n",
            " [  24   10    2    1    0    0   50    0]\n",
            " [  36    9    2    1    0    0   40    0]\n",
            " [  57    2    2    0    0    0   30    0]\n",
            " [  34    9    2    0    0    0   40    0]\n",
            " [  35    9    2    0    0    0   40    0]\n",
            " [  33   11    2    0    0    0   40    1]\n",
            " [  24    9    2    0    0    0   40    0]\n",
            " [  48    9    2    0    0    0   37    0]\n",
            " [  36    9    2    1    0    0   40    0]\n",
            " [  30    9    2    1    0    0   45    0]\n",
            " [  45    7    2    0    0    0   20    0]\n",
            " [  65    5    2    0    0    0   24    0]\n",
            " [  30    9    2    1    0    0   60    0]\n",
            " [  47   10    2    0    0    0   40    0]\n",
            " [  49    6    2    0    0    0   40    0]\n",
            " [  30   13    2    0    0    0   40    1]\n",
            " [  44    8    2    1    0    0   40    1]\n",
            " [  42    9    2    1    0    0   40    1]\n",
            " [  23   10    2    1    0    0   40    0]\n",
            " [  24   10    2    0    0    0   45    0]\n",
            " [  40    8    2    1    0    0   40    0]\n",
            " [  45   10    2    1    0    0   40    0]\n",
            " [  36   10    2    0    0    0   40    0]\n",
            " [  31    9    2    0    0    0   40    0]\n",
            " [  45   10    2    0    0    0   40    0]\n",
            " [  36   10    2    0    0    0   36    0]\n",
            " [  56    9    2    0  594    0   20    0]\n",
            " [  32   10    2    0    0    0   40    0]\n",
            " [  29    7    2    1    0    0   40    0]\n",
            " [  37    9    2    1    0    0   40    0]\n",
            " [  42   10    2    0    0    0   38    0]\n",
            " [  22   10    2    1    0    0   20    0]\n",
            " [  25    9    2    1    0    0   40    0]\n",
            " [  24    9    2    1    0 1721   30    0]\n",
            " [  22   10    2    1    0    0   40    0]\n",
            " [  55    3    2    1    0    0   25    0]\n",
            " [  23    9    2    0    0    0    7    0]\n",
            " [  54    9    2    1    0    0   40    0]\n",
            " [  48   10    2    0    0    0   30    0]\n",
            " [  24   13    2    1    0    0   15    0]\n",
            " [  23    9    2    1    0    0   40    0]\n",
            " [  38   10    2    0    0    0   40    0]\n",
            " [  35    9    2    1    0    0   40    0]\n",
            " [  54   10    2    0    0    0   35    0]\n",
            " [  51    4    2    0    0    0   40    0]\n",
            " [  78    9    2    0 2964    0   40    0]\n",
            " [  23    9    2    0    0    0   40    0]\n",
            " [  41    9    2    0    0    0   35    0]]\n",
            "110\n",
            "110\n"
          ]
        }
      ]
    },
    {
      "cell_type": "code",
      "source": [
        "Race33 = dataAlt[dataAlt[:,2] == 3 ]\n",
        "print(Race33)\n",
        "len_3 = len(Race33)\n",
        "print(len_3)\n",
        "\n",
        "len_3 = len(dataAlt[dataAlt[:,2] == 3 ])\n",
        "print(len_3)"
      ],
      "metadata": {
        "colab": {
          "base_uri": "https://localhost:8080/"
        },
        "id": "9_VlFZr0LPpg",
        "outputId": "bd1c4688-b9d5-4f4a-8930-778955b20807"
      },
      "execution_count": null,
      "outputs": [
        {
          "output_type": "stream",
          "name": "stdout",
          "text": [
            "[[  25   10    3    0    0    0   40    0]\n",
            " [  33   10    3    0    0    0   40    0]\n",
            " [  65    7    3    1    0    0   40    0]\n",
            " [  28    4    3    1    0 2179   40    0]\n",
            " [  44    7    3    0    0    0   46    0]\n",
            " [  40   13    3    0    0    0   55    1]]\n",
            "6\n",
            "6\n"
          ]
        }
      ]
    },
    {
      "cell_type": "code",
      "source": [
        "Race44 = dataAlt[dataAlt[:,2] == 4 ]\n",
        "print(Race44)\n",
        "len_4 = len(Race44)\n",
        "print(len_4)\n",
        "\n",
        "len_4 = len(dataAlt[dataAlt[:,2] == 4 ])\n",
        "print(len_4)"
      ],
      "metadata": {
        "colab": {
          "base_uri": "https://localhost:8080/"
        },
        "id": "TzUZvVMRMMu-",
        "outputId": "06c92ffe-f996-4466-f36d-2ec3a493f0f0"
      },
      "execution_count": null,
      "outputs": [
        {
          "output_type": "stream",
          "name": "stdout",
          "text": [
            "[[39 13  4 ...  0 40  0]\n",
            " [50 13  4 ...  0 13  0]\n",
            " [38  9  4 ...  0 40  0]\n",
            " ...\n",
            " [40 10  4 ...  0 40  0]\n",
            " [39 13  4 ...  0 50  1]\n",
            " [50  9  4 ...  0 40  0]]\n",
            "848\n",
            "848\n"
          ]
        }
      ]
    },
    {
      "cell_type": "code",
      "source": [
        "Race55 = dataAlt[dataAlt[:,2] == 5 ]\n",
        "print(Race55)\n",
        "len_5 = len(Race55)\n",
        "print(len_5)\n",
        "\n",
        "len_5 = len(dataAlt[dataAlt[:,2] == 5 ])\n",
        "print(len_5)"
      ],
      "metadata": {
        "colab": {
          "base_uri": "https://localhost:8080/"
        },
        "id": "ZTVZo2CuMs8l",
        "outputId": "69459490-0d84-4a75-b186-5633168485da"
      },
      "execution_count": null,
      "outputs": [
        {
          "output_type": "stream",
          "name": "stdout",
          "text": [
            "[]\n",
            "0\n",
            "0\n"
          ]
        }
      ]
    },
    {
      "cell_type": "code",
      "source": [
        "# Step 5: As per govt. records citizens above 60 should not work more than 25 \n",
        "# hours a week. Let us check if the policy is in place\n",
        "\n",
        "# Create a new subset array called 'senior_citizens' by filtering \n",
        "# 'census' according to age>60 (age is the column with index 0)\n",
        "\n",
        "# Add all the working hours(working hours is the column with index 6) \n",
        "# of 'senior_citizens' and store it in a variable called 'working_hours_sum'\n",
        "\n",
        "# Find the length of 'senior_citizens' and store it in a variable called 'senior_citizens_len'\n",
        "\n",
        "# Finally find the average working hours of the senior citizens \n",
        "# by dividing 'working_hours_sum' by 'senior_citizens_len' and store \n",
        "# it in a variable called 'avg_working hours'.\n",
        "\n",
        "# Print 'avg_working_hours' and see if the govt. policy is followed."
      ],
      "metadata": {
        "id": "w4jqg0OrQd8k"
      },
      "execution_count": null,
      "outputs": []
    },
    {
      "cell_type": "code",
      "source": [
        "seniorCitizens = dataAlt[dataAlt[:,0] > 60 ]\n",
        "print(seniorCitizens)\n",
        "print(\"yyyy\")\n",
        "# test = dataAlt[2] #prints all the elements in row 2\n",
        "# test = dataAlt[:,2] #prints all the rows and column 2\n",
        "# test = dataAlt[:,2] == 0  # it tells you wether 0 is found in column 2. thru all rows. true or false\n",
        "test = dataAlt[dataAlt[:,2] == 0 ] # it outputs all the rows where 0 is found in column 2\n",
        "# test = np.where(dataAlt[:,2] == 0 ) # this prints index of where 0 happens in column 2\n",
        "print(test)"
      ],
      "metadata": {
        "colab": {
          "base_uri": "https://localhost:8080/"
        },
        "id": "0HW0c_luQsAw",
        "outputId": "b5b06b2e-8ce4-42c9-9581-6b7eb2218691"
      },
      "execution_count": null,
      "outputs": [
        {
          "output_type": "stream",
          "name": "stdout",
          "text": [
            "[[   79    10     4     1     0     0    20     0]\n",
            " [   67     6     4     1     0     0     2     0]\n",
            " [   76    14     4     1     0     0    40     1]\n",
            " [   61     9     4     1     0     0    40     0]\n",
            " [   70    10     4     1     0     0    40     0]\n",
            " [   64     7     4     1     0  2179    40     0]\n",
            " [   71    10     2     1     0  1816     2     0]\n",
            " [   68     2     4     0     0     0    20     0]\n",
            " [   66    11     4     0     0     0    20     0]\n",
            " [   64     2     4     1     0     0    40     0]\n",
            " [   90     9     2     1     0  2206    40     0]\n",
            " [   66     9     4     1  1409     0    50     0]\n",
            " [   75    11     4     0     0     0    20     0]\n",
            " [   65     9     4     0     0     0    40     0]\n",
            " [   64     9     4     1     0     0    40     1]\n",
            " [   61     9     4     1     0     0    40     1]\n",
            " [   65     9     4     1     0     0    16     0]\n",
            " [   77    10     4     1     0     0    40     0]\n",
            " [   62     9     4     0     0     0    24     0]\n",
            " [   76    14     4     1     0     0    10     0]\n",
            " [   63     9     4     1     0     0    45     0]\n",
            " [   66     9     4     1  2050     0    55     0]\n",
            " [   67     7     4     1     0     0     8     0]\n",
            " [   65     7     3     1     0     0    40     0]\n",
            " [   62    14     4     1     0     0    40     1]\n",
            " [   63     9     4     1     0     0    40     1]\n",
            " [   80     9     4     1     0     0    24     0]\n",
            " [   67    11     4     0     0     0    24     0]\n",
            " [   63     2     4     1     0     0    35     0]\n",
            " [   72     9     4     1     0     0    20     0]\n",
            " [   62     9     4     1     0     0    40     0]\n",
            " [   74    10     4     0     0     0     9     0]\n",
            " [   67    15     4     1 20051     0    48     1]\n",
            " [   72     7     4     0     0     0    40     0]\n",
            " [   69     7     4     0     0     0    40     0]\n",
            " [   65    10     4     1     0     0    30     1]\n",
            " [   65     5     2     0     0     0    24     0]\n",
            " [   71     9     4     1     0     0    15     0]\n",
            " [   70     5     4     0  1111     0    15     0]\n",
            " [   66     4     4     1     0     0     4     0]\n",
            " [   65     7     4     1  9386     0    59     1]\n",
            " [   61     9     4     1     0  2352    50     0]\n",
            " [   61     9     4     1     0     0    40     0]\n",
            " [   68     7     4     1     0     0    20     0]\n",
            " [   64    13     4     1     0     0    40     1]\n",
            " [   64     9     4     1     0     0    45     0]\n",
            " [   62     9     4     0     0     0    40     0]\n",
            " [   73     9     4     1     0     0    40     0]\n",
            " [   72     7     4     0     0     0    24     0]\n",
            " [   63     9     4     1     0     0     6     0]\n",
            " [   62    13     4     0     0     0    48     0]\n",
            " [   61    14     4     0     0     0    40     1]\n",
            " [   71    14     4     1 10605     0    40     1]\n",
            " [   63    10     4     1     0     0    15     0]\n",
            " [   63     4     4     1     0     0    55     0]\n",
            " [   67     9     1     1     0     0    40     1]\n",
            " [   81     9     4     1     0     0    30     0]\n",
            " [   64     9     4     1     0     0     5     0]\n",
            " [   67    13     4     1     0  2392    40     1]\n",
            " [   78     9     2     0  2964     0    40     0]\n",
            " [   63    11     4     0     0     0    20     0]]\n",
            "yyyy\n",
            "[[34  4  0  1  0  0 45  0]\n",
            " [35 10  0  0  0  0 40  0]\n",
            " [60  6  0  0  0  0 10  0]\n",
            " [51  9  0  1  0  0 40  0]\n",
            " [25 10  0  0  0  0 20  0]\n",
            " [20  9  0  1  0  0 48  0]\n",
            " [23 10  0  0  0  0 25  0]\n",
            " [29  9  0  1  0  0 40  0]\n",
            " [27 12  0  1  0  0 40  0]\n",
            " [31 12  0  0  0  0 40  0]]\n"
          ]
        }
      ]
    },
    {
      "cell_type": "code",
      "source": [
        "working_hours_sum = sum(seniorCitizens)\n",
        "print(working_hours_sum)\n",
        "print(\"yes\")\n",
        "print(working_hours_sum[6])"
      ],
      "metadata": {
        "colab": {
          "base_uri": "https://localhost:8080/"
        },
        "id": "b5PuF447Sxva",
        "outputId": "48f031b0-ba36-4497-b8ff-253a8c197593"
      },
      "execution_count": null,
      "outputs": [
        {
          "output_type": "stream",
          "name": "stdout",
          "text": [
            "[ 4129   549   232    44 47576 10945  1917    13]\n",
            "yes\n",
            "1917\n"
          ]
        }
      ]
    },
    {
      "cell_type": "code",
      "source": [
        "working_hours_sum[6]"
      ],
      "metadata": {
        "colab": {
          "base_uri": "https://localhost:8080/"
        },
        "id": "kMV7BOciRtoG",
        "outputId": "f49611ce-c676-4523-d582-727d9dcdd8dc"
      },
      "execution_count": null,
      "outputs": [
        {
          "output_type": "execute_result",
          "data": {
            "text/plain": [
              "1917"
            ]
          },
          "metadata": {},
          "execution_count": 34
        }
      ]
    },
    {
      "cell_type": "code",
      "source": [
        "seniorCitizensLength = len(seniorCitizens)\n",
        "print(seniorCitizensLength)"
      ],
      "metadata": {
        "colab": {
          "base_uri": "https://localhost:8080/"
        },
        "id": "08T5xYNHzy8L",
        "outputId": "a443ce5e-31c3-4c29-80e6-701bc922fac6"
      },
      "execution_count": null,
      "outputs": [
        {
          "output_type": "stream",
          "name": "stdout",
          "text": [
            "61\n"
          ]
        }
      ]
    },
    {
      "cell_type": "code",
      "source": [
        "avg_working_hours = (working_hours_sum[6]/seniorCitizensLength)\n",
        "print(avg_working_hours)"
      ],
      "metadata": {
        "colab": {
          "base_uri": "https://localhost:8080/"
        },
        "id": "y2hBDP360a9M",
        "outputId": "6f2c2d67-ec85-49d4-b30b-dd4e6de22461"
      },
      "execution_count": null,
      "outputs": [
        {
          "output_type": "stream",
          "name": "stdout",
          "text": [
            "31.42622950819672\n"
          ]
        }
      ]
    },
    {
      "cell_type": "code",
      "source": [
        "# Step 6: Let's check that higher educated people have better pay in general.\n",
        "\n",
        "# Create two new subset arrays called 'high' and 'low' by filtering 'census' \n",
        "# according to education-num>10 and education-num<=10 (education-num is the \n",
        "# column with index 1) respectively.\n",
        "\n",
        "# Find the mean of income column(income is the column with index 7) \n",
        "# of 'high' array and store it in 'avg_pay_high'. Do the same \n",
        "# for 'low' array and store it's mean in 'avg_pay_low'."
      ],
      "metadata": {
        "id": "HChUKGE71YQb"
      },
      "execution_count": null,
      "outputs": []
    },
    {
      "cell_type": "code",
      "source": [
        "high = dataAlt[dataAlt[:,1] >= 10 ]\n",
        "print(high)"
      ],
      "metadata": {
        "colab": {
          "base_uri": "https://localhost:8080/"
        },
        "id": "z8NODJnsFeog",
        "outputId": "561dd952-0274-4fa6-ffaa-cd8a2cf458f4"
      },
      "execution_count": null,
      "outputs": [
        {
          "output_type": "stream",
          "name": "stdout",
          "text": [
            "[[39 13  4 ...  0 40  0]\n",
            " [50 13  4 ...  0 13  0]\n",
            " [28 13  2 ...  0 40  0]\n",
            " ...\n",
            " [48 13  4 ...  0 58  1]\n",
            " [40 10  4 ...  0 40  0]\n",
            " [39 13  4 ...  0 50  1]]\n"
          ]
        }
      ]
    },
    {
      "cell_type": "code",
      "source": [
        "AgeMean = np.average(dataAlt)\n",
        "# print(round(AgeMean, 2))  # decimal trick"
      ],
      "metadata": {
        "id": "RLMcHQsOF4Zc"
      },
      "execution_count": null,
      "outputs": []
    },
    {
      "cell_type": "code",
      "source": [
        "av=sum(high[:,7])/len(high[:,7])*100\n",
        "print(av)\n",
        "print(len(high[:,7]))"
      ],
      "metadata": {
        "colab": {
          "base_uri": "https://localhost:8080/"
        },
        "id": "kO-7dcnocyoy",
        "outputId": "36d559fc-13c0-40fc-a6c6-7bbcf58afa78"
      },
      "execution_count": null,
      "outputs": [
        {
          "output_type": "stream",
          "name": "stdout",
          "text": [
            "31.70289855072464\n",
            "552\n"
          ]
        }
      ]
    },
    {
      "cell_type": "code",
      "source": [
        "# seniorCitizens = dataAlt[dataAlt[:,0] > 60 ]\n",
        "# print(seniorCitizens)\n",
        "# print(\"yyyy\")\n",
        "# # test = dataAlt[2] #prints all the elements in row 2\n",
        "# # test = dataAlt[:,2] #prints all the rows and column 2\n",
        "# # test = dataAlt[:,2] == 0  # it tells you wether 0 is found in column 2. thru all rows. true or false\n",
        "# test = dataAlt[dataAlt[:,2] == 0 ] # it outputs all the rows where 0 is found in column 2\n",
        "# # test = np.where(dataAlt[:,2] == 0 ) # this prints index of where 0 happens in column 2\n",
        "# print(test)"
      ],
      "metadata": {
        "id": "m1XLJ4AuPvHR"
      },
      "execution_count": null,
      "outputs": []
    },
    {
      "cell_type": "code",
      "source": [
        "np.mean(dataAlt[:7])"
      ],
      "metadata": {
        "colab": {
          "base_uri": "https://localhost:8080/"
        },
        "id": "MpaVeRDAQYye",
        "outputId": "f1394e1b-2796-4bde-8622-54a2b0cacf51"
      },
      "execution_count": null,
      "outputs": [
        {
          "output_type": "execute_result",
          "data": {
            "text/plain": [
              "49.94642857142857"
            ]
          },
          "metadata": {},
          "execution_count": 42
        }
      ]
    },
    {
      "cell_type": "code",
      "source": [
        "a = sum(dataAlt)\n",
        "print(\"hola\")\n",
        "len(dataAlt)\n",
        "print(a)"
      ],
      "metadata": {
        "colab": {
          "base_uri": "https://localhost:8080/"
        },
        "id": "9RjFTVo6Qm_p",
        "outputId": "6c9d8340-a53e-47f9-8872-33c4c9ed7083"
      },
      "execution_count": null,
      "outputs": [
        {
          "output_type": "stream",
          "name": "stdout",
          "text": [
            "hola\n",
            "[ 38101  10093   3657    672 588526  92960  39916    232]\n"
          ]
        }
      ]
    },
    {
      "cell_type": "code",
      "source": [
        "promedio = np.mean(dataAlt[:7])\n",
        "print(promedio)"
      ],
      "metadata": {
        "colab": {
          "base_uri": "https://localhost:8080/"
        },
        "id": "U-IVmrfVStK_",
        "outputId": "e7839532-b84e-4993-fab7-36152daffb65"
      },
      "execution_count": null,
      "outputs": [
        {
          "output_type": "stream",
          "name": "stdout",
          "text": [
            "49.94642857142857\n"
          ]
        }
      ]
    },
    {
      "cell_type": "code",
      "source": [
        "col7 = sum(dataAlt)\n",
        "print(col7)\n",
        "print(\"yes\")\n",
        "print(col7[6])\n",
        "col7[6]\n",
        "lencol7 = len(col7)\n",
        "print(lencol7)\n",
        "avg_Money = (col7/lencol7)\n",
        "print(avg_Money)"
      ],
      "metadata": {
        "colab": {
          "base_uri": "https://localhost:8080/"
        },
        "id": "jWGnsgvMTa9P",
        "outputId": "32fcdde5-16ef-4e26-9ce1-7ac58d674648"
      },
      "execution_count": null,
      "outputs": [
        {
          "output_type": "stream",
          "name": "stdout",
          "text": [
            "[ 38101  10093   3657    672 588526  92960  39916    232]\n",
            "yes\n",
            "39916\n",
            "8\n",
            "[4.762625e+03 1.261625e+03 4.571250e+02 8.400000e+01 7.356575e+04\n",
            " 1.162000e+04 4.989500e+03 2.900000e+01]\n"
          ]
        }
      ]
    },
    {
      "cell_type": "code",
      "source": [
        "sumaIngreso= sum(dataAlt)\n",
        "cuantosIndexHay = len(dataAlt[:,7] == 1)\n",
        "print(cuantosIndexHay)\n",
        "print(sumaIngreso[7])"
      ],
      "metadata": {
        "colab": {
          "base_uri": "https://localhost:8080/"
        },
        "id": "JNTxk352Upn4",
        "outputId": "7c2443b2-1128-47d1-c511-717bbde34724"
      },
      "execution_count": null,
      "outputs": [
        {
          "output_type": "stream",
          "name": "stdout",
          "text": [
            "1001\n",
            "232\n"
          ]
        }
      ]
    },
    {
      "cell_type": "code",
      "source": [
        "sumatoriaAt1 = sum(dataAlt[dataAlt[:,7] == 1])"
      ],
      "metadata": {
        "id": "TtMoODJKWAuV"
      },
      "execution_count": null,
      "outputs": []
    },
    {
      "cell_type": "code",
      "source": [
        "print(sumatoriaAt1)"
      ],
      "metadata": {
        "colab": {
          "base_uri": "https://localhost:8080/"
        },
        "id": "zva4KQcTXPvV",
        "outputId": "b2ac535c-c1ee-423d-c21c-7cad7dff848d"
      },
      "execution_count": null,
      "outputs": [
        {
          "output_type": "stream",
          "name": "stdout",
          "text": [
            "[ 10113   2705    867    191 455716  42338  10532    232]\n"
          ]
        }
      ]
    },
    {
      "cell_type": "code",
      "source": [
        "sumatoriaBelow1 = sum(dataAlt[dataAlt[:,7] == 0])"
      ],
      "metadata": {
        "id": "-r8Kpaw3X3Pl"
      },
      "execution_count": null,
      "outputs": []
    },
    {
      "cell_type": "code",
      "source": [
        "len(dataAlt)  - (sumatoriaAt1)"
      ],
      "metadata": {
        "colab": {
          "base_uri": "https://localhost:8080/"
        },
        "id": "VN0JJdmoYnTl",
        "outputId": "080fbc5c-272d-4982-d293-2933f14586c9"
      },
      "execution_count": null,
      "outputs": [
        {
          "output_type": "execute_result",
          "data": {
            "text/plain": [
              "array([  -9112,   -1704,     134,     810, -454715,  -41337,   -9531,\n",
              "           769])"
            ]
          },
          "metadata": {},
          "execution_count": 50
        }
      ]
    },
    {
      "cell_type": "code",
      "source": [
        "suma = sum(dataAlt)"
      ],
      "metadata": {
        "id": "ZXjybwo6YrXw"
      },
      "execution_count": null,
      "outputs": []
    },
    {
      "cell_type": "code",
      "source": [
        "print(suma)"
      ],
      "metadata": {
        "colab": {
          "base_uri": "https://localhost:8080/"
        },
        "id": "-ghCw6GyZi9d",
        "outputId": "ca2278b0-86e9-444b-f79a-c6cb22e788c0"
      },
      "execution_count": null,
      "outputs": [
        {
          "output_type": "stream",
          "name": "stdout",
          "text": [
            "[ 38101  10093   3657    672 588526  92960  39916    232]\n"
          ]
        }
      ]
    },
    {
      "cell_type": "code",
      "source": [
        "high = suma[7]\n",
        "print(high)"
      ],
      "metadata": {
        "colab": {
          "base_uri": "https://localhost:8080/"
        },
        "id": "ETKohq4cZkp_",
        "outputId": "83963f01-b95b-4f54-b26f-b16a086867e5"
      },
      "execution_count": null,
      "outputs": [
        {
          "output_type": "stream",
          "name": "stdout",
          "text": [
            "232\n"
          ]
        }
      ]
    },
    {
      "cell_type": "code",
      "source": [
        "largo = len(dataAlt)\n",
        "print(largo)"
      ],
      "metadata": {
        "colab": {
          "base_uri": "https://localhost:8080/"
        },
        "id": "M6Wz6f6UZoVd",
        "outputId": "5f87c7ba-e8c2-419a-90a1-6be86fdcfbb5"
      },
      "execution_count": null,
      "outputs": [
        {
          "output_type": "stream",
          "name": "stdout",
          "text": [
            "1001\n"
          ]
        }
      ]
    },
    {
      "cell_type": "code",
      "source": [
        "low = largo - suma[7]\n",
        "print(low)"
      ],
      "metadata": {
        "colab": {
          "base_uri": "https://localhost:8080/"
        },
        "id": "TsGaV45ZZs6I",
        "outputId": "3a9c5df7-9385-426a-9f6e-353041f68f26"
      },
      "execution_count": null,
      "outputs": [
        {
          "output_type": "stream",
          "name": "stdout",
          "text": [
            "769\n"
          ]
        }
      ]
    },
    {
      "cell_type": "code",
      "source": [
        "# how many ppl are above 10 years of \n",
        "# education and out of those how many are with a 1 or a zero"
      ],
      "metadata": {
        "id": "YeQVDeN1aN8Q"
      },
      "execution_count": null,
      "outputs": []
    },
    {
      "cell_type": "code",
      "source": [
        "#how many people above 10 years and income of 1\n",
        "\n",
        "\n",
        "# ppl above and = 10\n",
        "Above10 = dataAlt[dataAlt[:,1]>=10]\n",
        "# print(Above10)\n",
        "\n",
        "# incomeOf1 = sum(dataAlt[7]) # this is a horrible!!!\n",
        "\n",
        "finalIntersection = Above10[Above10[:,7]==1]\n",
        "print(finalIntersection)\n",
        "totalEq1 = len(finalIntersection)\n",
        "print(totalEq1)\n",
        "len(Above10)\n",
        "perctOfAbove10ANDeaqual1 = totalEq1/len(Above10) \n",
        "print(round(perctOfAbove10ANDeaqual1*100, 3), \"%\")\n",
        "# print(len(Above10))"
      ],
      "metadata": {
        "colab": {
          "base_uri": "https://localhost:8080/"
        },
        "id": "leZht268fHFV",
        "outputId": "84c5813c-a9e5-43b1-b656-04f0d0d7aa20"
      },
      "execution_count": null,
      "outputs": [
        {
          "output_type": "stream",
          "name": "stdout",
          "text": [
            "[[31 14  4 ...  0 50  1]\n",
            " [42 13  4 ...  0 40  1]\n",
            " [37 10  2 ...  0 80  1]\n",
            " ...\n",
            " [40 14  4 ...  0 35  1]\n",
            " [48 13  4 ...  0 58  1]\n",
            " [39 13  4 ...  0 50  1]]\n",
            "175\n",
            "31.703 %\n"
          ]
        }
      ]
    },
    {
      "cell_type": "code",
      "source": [
        "aboveD = dataAlt[dataAlt[:,1]>=10]\n",
        "print(aboveD)\n",
        "print(\"kkk\")\n",
        "high= aboveD[aboveD[:,7]==1]\n",
        "print(len(high))\n",
        "low = 1- (len(high)/len(aboveD))\n",
        "print(low)"
      ],
      "metadata": {
        "colab": {
          "base_uri": "https://localhost:8080/"
        },
        "id": "KbMWzw80fykL",
        "outputId": "fa1bfb75-c5e4-49a6-c2ff-c5644e449591"
      },
      "execution_count": null,
      "outputs": [
        {
          "output_type": "stream",
          "name": "stdout",
          "text": [
            "[[39 13  4 ...  0 40  0]\n",
            " [50 13  4 ...  0 13  0]\n",
            " [28 13  2 ...  0 40  0]\n",
            " ...\n",
            " [48 13  4 ...  0 58  1]\n",
            " [40 10  4 ...  0 40  0]\n",
            " [39 13  4 ...  0 50  1]]\n",
            "kkk\n",
            "175\n",
            "0.6829710144927537\n"
          ]
        }
      ]
    },
    {
      "cell_type": "code",
      "source": [
        ""
      ],
      "metadata": {
        "id": "Je-iWm2YhLUf"
      },
      "execution_count": null,
      "outputs": []
    }
  ]
}